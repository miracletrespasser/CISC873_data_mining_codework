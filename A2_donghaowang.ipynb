{
  "cells": [
    {
      "cell_type": "code",
      "execution_count": null,
      "metadata": {
        "id": "Nh-anmla-FV0"
      },
      "outputs": [],
      "source": [
        "import pandas as pd\n",
        "import numpy as np\n",
        "from sklearn.linear_model import LogisticRegression\n",
        "from sklearn.metrics import f1_score\n",
        "from pprint import pprint"
      ]
    },
    {
      "cell_type": "markdown",
      "source": [
        "What is the input? What is the output? What data mining function is required? What could be the challenges? What is the impact? What is an ideal solution?<br>\n",
        "Input: profile of the two people in a matching date<br>\n",
        "output: 1 for success date and 0 for unsuccessful date<br>\n",
        "Chanlenge:Find the most suitable model and parameter for the prediction task. It's really hard for the test score to break through 0.9.<br>\n",
        "Impact: Multiple parameter tuning has to be done to find the best setting, which increases the training time greatly from a few minutes to a few 10 minutes.<br>\n",
        "Ideal Solution: The model should predict profiles of every successfully matched couple as a 1 and unsuccessfulk ones should be predicted 0. The means, every couple that predicted a 1 should be able to have a good time with each other; for the couples predicted a 0, wish they better luck next time. \n"
      ],
      "metadata": {
        "id": "7OxZuO6jgDYj"
      }
    },
    {
      "cell_type": "markdown",
      "source": [
        "Q:What is the experimental protocol used and how was it carried out? What preprocessing steps are used? <br>\n",
        "A:The purporse of the experiment is to predict whether the date will be successful given the profile of two people.<br>\n",
        "The materials are pre-splitted datasets train_new.csv and test_new.csv. The evironment is google colab notebook. <br>\n",
        "Methodology:<br>\n",
        "Grid search,Random search and Bayesian search models are used to analyze and evaluate the data.<br>\n",
        "First, do some preprocessing with the original data(done in the walkthrough notebook). The numerical categorical data processing is done through the pipeline.<br>\n",
        "Then, use the default setting (already done in the notebook)without any parameter tuning or extra data preprocessing in the walkthrough notebook to set up the model. Train the model with untuned training data and generate validation score using validation data.<br>\n",
        "After that, tune the hyperparameter or do extra data preprocessing and repeat the process and see if there is improvements in validation score. For each of the three models, 2 parameter tunes are done.<br>\n",
        "<br>"
      ],
      "metadata": {
        "id": "7RpR8Zu_Jjrr"
      }
    },
    {
      "cell_type": "code",
      "execution_count": null,
      "metadata": {
        "colab": {
          "base_uri": "https://localhost:8080/"
        },
        "id": "1Pk4nXGq-FV1",
        "outputId": "1e620c9a-f9f1-4d4d-bc03-68793b7457a7"
      },
      "outputs": [
        {
          "output_type": "execute_result",
          "data": {
            "text/plain": [
              "(5909, 192)"
            ]
          },
          "metadata": {},
          "execution_count": 3
        }
      ],
      "source": [
        "#Extract data from the csv files\n",
        "data = pd.read_csv('train.csv')\n",
        "data_test = pd.read_csv('test.csv')\n",
        "data.shape"
      ]
    },
    {
      "cell_type": "code",
      "execution_count": null,
      "metadata": {
        "colab": {
          "base_uri": "https://localhost:8080/",
          "height": 282
        },
        "id": "UVn6pmoI-FV2",
        "outputId": "11653bb8-4f89-46e7-8712-b6549bc81a7e"
      },
      "outputs": [
        {
          "output_type": "execute_result",
          "data": {
            "text/plain": [
              "<matplotlib.axes._subplots.AxesSubplot at 0x7f536b8f3b90>"
            ]
          },
          "metadata": {},
          "execution_count": 4
        },
        {
          "output_type": "display_data",
          "data": {
            "text/plain": [
              "<Figure size 432x288 with 1 Axes>"
            ],
            "image/png": "[encoded data removed]"
          },
          "metadata": {
            "needs_background": "light"
          }
        }
      ],
      "source": [
        "data.isnull().sum().hist()\n",
        "#numerous null data blocks"
      ]
    },
    {
      "cell_type": "code",
      "execution_count": null,
      "metadata": {
        "colab": {
          "base_uri": "https://localhost:8080/"
        },
        "id": "gSQkiJ80-FV2",
        "outputId": "fc31a7ed-1d72-4cbc-b020-81ae656f822e"
      },
      "outputs": [
        {
          "output_type": "stream",
          "name": "stdout",
          "text": [
            "Looking in indexes: https://pypi.org/simple, https://us-python.pkg.dev/colab-wheels/public/simple/\n",
            "Requirement already satisfied: xgboost in /usr/local/lib/python3.7/dist-packages (0.90)\n",
            "Requirement already satisfied: numpy in /usr/local/lib/python3.7/dist-packages (from xgboost) (1.21.6)\n",
            "Requirement already satisfied: scipy in /usr/local/lib/python3.7/dist-packages (from xgboost) (1.7.3)\n",
            "Looking in indexes: https://pypi.org/simple, https://us-python.pkg.dev/colab-wheels/public/simple/\n",
            "Requirement already satisfied: scikit-optimize in /usr/local/lib/python3.7/dist-packages (0.9.0)\n",
            "Requirement already satisfied: numpy>=1.13.3 in /usr/local/lib/python3.7/dist-packages (from scikit-optimize) (1.21.6)\n",
            "Requirement already satisfied: scikit-learn>=0.20.0 in /usr/local/lib/python3.7/dist-packages (from scikit-optimize) (1.0.2)\n",
            "Requirement already satisfied: pyaml>=16.9 in /usr/local/lib/python3.7/dist-packages (from scikit-optimize) (21.10.1)\n",
            "Requirement already satisfied: joblib>=0.11 in /usr/local/lib/python3.7/dist-packages (from scikit-optimize) (1.2.0)\n",
            "Requirement already satisfied: scipy>=0.19.1 in /usr/local/lib/python3.7/dist-packages (from scikit-optimize) (1.7.3)\n",
            "Requirement already satisfied: PyYAML in /usr/local/lib/python3.7/dist-packages (from pyaml>=16.9->scikit-optimize) (6.0)\n",
            "Requirement already satisfied: threadpoolctl>=2.0.0 in /usr/local/lib/python3.7/dist-packages (from scikit-learn>=0.20.0->scikit-optimize) (3.1.0)\n"
          ]
        }
      ],
      "source": [
        "# if you haven't installed xgboost on your system, uncomment the line below\n",
        "!pip install xgboost\n",
        "# if you haven't installed bayesian-optimization on your system, uncomment the line below\n",
        "!pip install scikit-optimize"
      ]
    },
    {
      "cell_type": "code",
      "execution_count": null,
      "metadata": {
        "id": "I-_dFZnX-FV2"
      },
      "outputs": [],
      "source": [
        "#split the features and labels\n",
        "x = data.drop('match', axis=1)\n",
        "#split the numeric features and categorical data\n",
        "features_numeric = list(x.select_dtypes(include=['float64']))\n",
        "features_categorical = list(x.select_dtypes(include=['object']))\n",
        "#get the labels\n",
        "y = data['match']\n"
      ]
    },
    {
      "cell_type": "code",
      "execution_count": null,
      "metadata": {
        "colab": {
          "base_uri": "https://localhost:8080/"
        },
        "id": "y2-MN8Nw-FV2",
        "outputId": "4760fca1-436e-4a06-ebf9-d90d1c6e9781"
      },
      "outputs": [
        {
          "output_type": "stream",
          "name": "stdout",
          "text": [
            "['field', 'undergra', 'mn_sat', 'tuition', 'from', 'zipcode', 'income', 'career']\n"
          ]
        }
      ],
      "source": [
        "#print the categorical feature names\n",
        "print(features_categorical)"
      ]
    },
    {
      "cell_type": "markdown",
      "source": [
        "Now based on the template, try to improve the model's performance on the public leaderboard by following the data science life-cycle for tuning. You can try different features, different hyperparameters/configurations of the model, and even a different model. For each trial, document the reason why you want to make the certain change and the expected outcome, before running the code. Record the observed performance and your thought on it. The final result is not important, but the process is. Documentation of your thought process is very important, since most people forgot why they test certain model/hyperparameter after they got the result (it takes time). It also helps a lot when you got stuck. You can organize the notebook by listing\n",
        "\n",
        "thoughts and observations for trial 0, plan for trial 1\n",
        "code for trial 1\n",
        "thoughts and observations for trial 1, plan for trial 2\n",
        "code for trial 2\n",
        "…\n",
        "You have to tune at least 6 times. All the tried solutions should be different (e.g. different feature sets/different preprocessing/model/tuning method/tuning range). Requirements - covered at least:\n",
        "\n",
        "one grid search trial,\n",
        "and one random search trial,\n",
        "and one bayesian search trial"
      ],
      "metadata": {
        "id": "IFXfaTpCqvej"
      }
    },
    {
      "cell_type": "code",
      "execution_count": null,
      "metadata": {
        "id": "W3hESIzL-FV3"
      },
      "outputs": [],
      "source": [
        "import numpy as np\n",
        "from sklearn.compose import ColumnTransformer\n",
        "from sklearn.datasets import fetch_openml\n",
        "from sklearn.pipeline import Pipeline\n",
        "from sklearn.impute import SimpleImputer\n",
        "from sklearn.preprocessing import StandardScaler, OneHotEncoder\n",
        "from sklearn.linear_model import LogisticRegression\n",
        "from sklearn.model_selection import train_test_split, GridSearchCV\n",
        "from xgboost.sklearn import XGBClassifier\n",
        "\n",
        "np.random.seed(0)\n",
        "#deal with the numeric vlaues\n",
        "transformer_numeric = Pipeline(\n",
        "    steps=[\n",
        "        ('imputer', SimpleImputer(strategy='median')),#replace the missing value with the median value in this feature\n",
        "        ('scaler', StandardScaler())]\n",
        ")\n",
        "#deal with the categorical values\n",
        "transformer_categorical = Pipeline(\n",
        "    steps=[\n",
        "        ('imputer', SimpleImputer(strategy='constant', fill_value='missing')),#fill the missing value with 'missing' and then replace the label with a constant numeric value\n",
        "        ('onehot', OneHotEncoder(handle_unknown='ignore'))\n",
        "    ]\n",
        ")\n",
        "#combine the two pipeline above together\n",
        "preprocessor = ColumnTransformer(\n",
        "    transformers=[\n",
        "        ('num', transformer_numeric, features_numeric),\n",
        "        ('cat', transformer_categorical, features_categorical)\n",
        "    ]\n",
        ")\n",
        "#final pipeline\n",
        "full_pipline = Pipeline(\n",
        "    steps=[\n",
        "        ('preprocessor', preprocessor),\n",
        "        ('my_classifier', XGBClassifier(\n",
        "            objective='binary:logistic', seed=1))#It is a binary classification problem\n",
        "    ]\n",
        ")\n",
        "\n",
        "\n",
        "\n",
        "\n"
      ]
    },
    {
      "cell_type": "code",
      "source": [
        "#Example run of gridsearch\n",
        "# `__` denotes attribute \n",
        "# (e.g. my_classifier__n_estimators means the `n_estimators` param for `my_classifier`\n",
        "#  which is our xgb)\n",
        "param_grid = {\n",
        "    'preprocessor__num__imputer__strategy': ['mean'],\n",
        "    'my_classifier__n_estimators': [10, 20, 100],\n",
        "    'my_classifier__max_depth':[10, 20]\n",
        "}\n",
        "\n",
        "grid_search = GridSearchCV(\n",
        "    full_pipline, param_grid, cv=5, verbose=3, n_jobs=2, \n",
        "    scoring='roc_auc')\n",
        "\n",
        "grid_search.fit(x, y)\n",
        "print('best score {}'.format(grid_search.best_score_))\n",
        "print('best score {}'.format(grid_search.best_params_))"
      ],
      "metadata": {
        "colab": {
          "base_uri": "https://localhost:8080/"
        },
        "id": "2lZn1QbMyz-C",
        "outputId": "869d2fbb-d7f0-440b-9d15-af310a2a3652"
      },
      "execution_count": null,
      "outputs": [
        {
          "output_type": "stream",
          "name": "stdout",
          "text": [
            "Fitting 5 folds for each of 6 candidates, totalling 30 fits\n",
            "best score 0.8789401909943632\n",
            "best score {'my_classifier__max_depth': 10, 'my_classifier__n_estimators': 100, 'preprocessor__num__imputer__strategy': 'mean'}\n"
          ]
        }
      ]
    },
    {
      "cell_type": "code",
      "source": [
        "#trial 1\n",
        "#increase the number of choices for the parameters and see if it reaches the best selection of these parameters\n",
        "#increase depth and estimator number\n",
        "param_grid = {\n",
        "    'preprocessor__num__imputer__strategy': ['mean'],\n",
        "    'my_classifier__n_estimators': [20, 100, 200],\n",
        "    'my_classifier__max_depth':[30,40]}\n",
        "grid_search = GridSearchCV(\n",
        "    full_pipline, param_grid, cv=5, verbose=3, n_jobs=2, \n",
        "    scoring='roc_auc')\n",
        "\n",
        "grid_search.fit(x, y)\n",
        "print('best score {}'.format(grid_search.best_score_))\n",
        "print('best score {}'.format(grid_search.best_params_))\n",
        "# the result had slight increase as the depth and estimators increase\n",
        "#but the running time increases from 2 mins to 6 mins"
      ],
      "metadata": {
        "id": "SFKOsnXH4Ee6",
        "colab": {
          "base_uri": "https://localhost:8080/"
        },
        "outputId": "228eb9ba-02f4-4394-fc25-19b26df6cb6c"
      },
      "execution_count": null,
      "outputs": [
        {
          "output_type": "stream",
          "name": "stdout",
          "text": [
            "Fitting 5 folds for each of 6 candidates, totalling 30 fits\n",
            "best score 0.8808741520245137\n",
            "best score {'my_classifier__max_depth': 40, 'my_classifier__n_estimators': 200, 'preprocessor__num__imputer__strategy': 'mean'}\n"
          ]
        }
      ]
    },
    {
      "cell_type": "code",
      "source": [
        "#trial 2\n",
        "#the increase in accuracy is too little to measure for the last trial\n",
        "#to improve efficiency, let's try multiple learning rate setting, lower maximum depth and try to tweak the loss function\n",
        "param_grid = {\n",
        "    'preprocessor__num__imputer__strategy': ['mean'],\n",
        "    'my_classifier__n_estimators': [50,80,100],\n",
        "    'my_classifier__max_depth':[2,3,5],\n",
        "    'my_classifier__learning_rate':[0.05,0.1,0.2],#learning rate\n",
        "    'my_classifier__reg_alpha':[2,5,8],#loss function\n",
        "}\n",
        "\n",
        "grid_search = GridSearchCV(\n",
        "    full_pipline, param_grid, cv=5, verbose=3, n_jobs=2, \n",
        "    scoring='roc_auc')\n",
        "\n",
        "grid_search.fit(x, y)\n",
        "print('best score {}'.format(grid_search.best_score_))\n",
        "print('best score {}'.format(grid_search.best_params_))\n",
        "#more increase in scores"
      ],
      "metadata": {
        "colab": {
          "base_uri": "https://localhost:8080/"
        },
        "outputId": "0fe62b57-5de6-4267-a492-5369ebe99213",
        "id": "0SqUJZbXAcgD"
      },
      "execution_count": null,
      "outputs": [
        {
          "output_type": "stream",
          "name": "stdout",
          "text": [
            "Fitting 5 folds for each of 81 candidates, totalling 405 fits\n",
            "best score 0.8821970573122855\n",
            "best score {'my_classifier__learning_rate': 0.1, 'my_classifier__max_depth': 5, 'my_classifier__n_estimators': 80, 'my_classifier__reg_alpha': 2, 'preprocessor__num__imputer__strategy': 'mean'}\n"
          ]
        }
      ]
    },
    {
      "cell_type": "code",
      "execution_count": null,
      "metadata": {
        "colab": {
          "base_uri": "https://localhost:8080/",
          "height": 282
        },
        "id": "mdkka_LF-FV2",
        "outputId": "890e216f-f719-44cb-cdd0-50d2f23956e5"
      },
      "outputs": [
        {
          "output_type": "execute_result",
          "data": {
            "text/plain": [
              "<matplotlib.axes._subplots.AxesSubplot at 0x7f5360347e10>"
            ]
          },
          "metadata": {},
          "execution_count": 12
        },
        {
          "output_type": "display_data",
          "data": {
            "text/plain": [
              "<Figure size 432x288 with 1 Axes>"
            ],
            "image/png": "[encoded data removed]"
          },
          "metadata": {
            "needs_background": "light"
          }
        }
      ],
      "source": [
        "data['match'].hist()\n",
        "#match score is binary"
      ]
    },
    {
      "cell_type": "code",
      "source": [
        "#trial 3\n",
        "#As seen in the diagram aove, the positive sample (1) is significantly lower than that of negative samples(0)\n",
        "#Thus the scale_pos_weight attribute may need to be adjusted\n",
        "param_grid = {\n",
        "    'preprocessor__num__imputer__strategy': ['mean'],\n",
        "    'my_classifier__n_estimators': [100],\n",
        "    'my_classifier__max_depth':[3],\n",
        "    'my_classifier__learning_rate':[0.1],#learning rate\n",
        "    'my_classifier__reg_alpha':[5],#loss function\n",
        "    'my_classifier__scale_pos_weight':[0.2,0.4,0.6,1,2,3,4,5]#the pos/neg sample ratio\n",
        "}\n",
        "\n",
        "grid_search = GridSearchCV(\n",
        "    full_pipline, param_grid, cv=5, verbose=3, n_jobs=2, \n",
        "    scoring='roc_auc')\n",
        "\n",
        "grid_search.fit(x, y)\n",
        "print('best score {}'.format(grid_search.best_score_))\n",
        "print('best score {}'.format(grid_search.best_params_))\n",
        "#no change in scores since the scale is the best as default"
      ],
      "metadata": {
        "colab": {
          "base_uri": "https://localhost:8080/"
        },
        "outputId": "c9ed8fa1-5ba1-4183-e258-47d3344952f6",
        "id": "VHukz1VWDD2H"
      },
      "execution_count": null,
      "outputs": [
        {
          "output_type": "stream",
          "name": "stdout",
          "text": [
            "Fitting 5 folds for each of 8 candidates, totalling 40 fits\n",
            "best score 0.8768925286826104\n",
            "best score {'my_classifier__learning_rate': 0.1, 'my_classifier__max_depth': 3, 'my_classifier__n_estimators': 100, 'my_classifier__reg_alpha': 5, 'my_classifier__scale_pos_weight': 4, 'preprocessor__num__imputer__strategy': 'mean'}\n"
          ]
        }
      ]
    },
    {
      "cell_type": "code",
      "source": [
        "#random search trial 1\n",
        "from sklearn.model_selection import RandomizedSearchCV\n",
        "param_grid = {\n",
        "    'preprocessor__num__imputer__strategy': ['mean'],\n",
        "    'my_classifier__n_estimators': [50,80,100],\n",
        "    'my_classifier__max_depth':[2,3,5],\n",
        "    'my_classifier__learning_rate':[0.1],#learning rate\n",
        "    'my_classifier__reg_alpha':[2,5,8]#loss function\n",
        "}\n",
        "#nearly the same layout as gridsearch\n",
        "random_search = RandomizedSearchCV(\n",
        "    full_pipline, param_grid, cv=5, verbose=3, n_jobs=2, \n",
        "    scoring='roc_auc')\n",
        "\n",
        "random_search.fit(x, y)\n",
        "print('best score {}'.format(random_search.best_score_))\n",
        "print('best score {}'.format(random_search.best_params_))\n",
        "#not much difference with the grid search trial"
      ],
      "metadata": {
        "colab": {
          "base_uri": "https://localhost:8080/"
        },
        "outputId": "e565d801-827f-4d29-ab90-b7a51eb8d808",
        "id": "j1O7dLM9KupG"
      },
      "execution_count": null,
      "outputs": [
        {
          "output_type": "stream",
          "name": "stdout",
          "text": [
            "Fitting 5 folds for each of 10 candidates, totalling 50 fits\n",
            "best score 0.8817523075219587\n",
            "best score {'preprocessor__num__imputer__strategy': 'mean', 'my_classifier__reg_alpha': 2, 'my_classifier__n_estimators': 100, 'my_classifier__max_depth': 5, 'my_classifier__learning_rate': 0.1}\n"
          ]
        }
      ]
    },
    {
      "cell_type": "code",
      "execution_count": null,
      "metadata": {
        "colab": {
          "base_uri": "https://localhost:8080/"
        },
        "id": "oRt1fiYJ-FV4",
        "outputId": "894aa257-2dbe-4598-b0ea-aacb05f6967e"
      },
      "outputs": [
        {
          "output_type": "stream",
          "name": "stdout",
          "text": [
            "Fitting 5 folds for each of 1 candidates, totalling 5 fits\n",
            "[CV 1/5] END my_svc__C=2.352718564818733, my_svc__degree=6, my_svc__gamma=0.022854318128961743, my_svc__kernel=poly;, score=0.830 total time=  11.3s\n",
            "[CV 2/5] END my_svc__C=2.352718564818733, my_svc__degree=6, my_svc__gamma=0.022854318128961743, my_svc__kernel=poly;, score=0.812 total time=   9.7s\n",
            "[CV 3/5] END my_svc__C=2.352718564818733, my_svc__degree=6, my_svc__gamma=0.022854318128961743, my_svc__kernel=poly;, score=0.818 total time=  10.0s\n",
            "[CV 4/5] END my_svc__C=2.352718564818733, my_svc__degree=6, my_svc__gamma=0.022854318128961743, my_svc__kernel=poly;, score=0.821 total time=  14.0s\n",
            "[CV 5/5] END my_svc__C=2.352718564818733, my_svc__degree=6, my_svc__gamma=0.022854318128961743, my_svc__kernel=poly;, score=0.832 total time=  11.7s\n",
            "Fitting 5 folds for each of 1 candidates, totalling 5 fits\n",
            "[CV 1/5] END my_svc__C=0.0012602593949011189, my_svc__degree=8, my_svc__gamma=2.285959941576884, my_svc__kernel=poly;, score=0.838 total time=  11.5s\n",
            "[CV 2/5] END my_svc__C=0.0012602593949011189, my_svc__degree=8, my_svc__gamma=2.285959941576884, my_svc__kernel=poly;, score=0.814 total time=   9.2s\n",
            "[CV 3/5] END my_svc__C=0.0012602593949011189, my_svc__degree=8, my_svc__gamma=2.285959941576884, my_svc__kernel=poly;, score=0.821 total time=   9.2s\n",
            "[CV 4/5] END my_svc__C=0.0012602593949011189, my_svc__degree=8, my_svc__gamma=2.285959941576884, my_svc__kernel=poly;, score=0.822 total time=  12.2s\n",
            "[CV 5/5] END my_svc__C=0.0012602593949011189, my_svc__degree=8, my_svc__gamma=2.285959941576884, my_svc__kernel=poly;, score=0.832 total time=  12.7s\n",
            "Fitting 5 folds for each of 1 candidates, totalling 5 fits\n",
            "[CV 1/5] END my_svc__C=2.2095350994035026, my_svc__degree=1, my_svc__gamma=0.0002488766453161173, my_svc__kernel=linear;, score=0.806 total time=  10.3s\n",
            "[CV 2/5] END my_svc__C=2.2095350994035026, my_svc__degree=1, my_svc__gamma=0.0002488766453161173, my_svc__kernel=linear;, score=0.790 total time=  11.8s\n",
            "[CV 3/5] END my_svc__C=2.2095350994035026, my_svc__degree=1, my_svc__gamma=0.0002488766453161173, my_svc__kernel=linear;, score=0.793 total time=  10.5s\n",
            "[CV 4/5] END my_svc__C=2.2095350994035026, my_svc__degree=1, my_svc__gamma=0.0002488766453161173, my_svc__kernel=linear;, score=0.790 total time=  13.3s\n",
            "[CV 5/5] END my_svc__C=2.2095350994035026, my_svc__degree=1, my_svc__gamma=0.0002488766453161173, my_svc__kernel=linear;, score=0.796 total time=  14.0s\n",
            "best score 0.8255215474568427\n",
            "best score OrderedDict([('my_svc__C', 0.0012602593949011189), ('my_svc__degree', 8), ('my_svc__gamma', 2.285959941576884), ('my_svc__kernel', 'poly')])\n"
          ]
        }
      ],
      "source": [
        "from skopt import BayesSearchCV\n",
        "from skopt.space import Real, Categorical, Integer\n",
        "from sklearn.svm import SVC\n",
        "\n",
        "\n",
        "SVC_pipline = Pipeline(\n",
        "    steps=[\n",
        "        ('preprocessor', preprocessor),\n",
        "        ('my_svc', SVC(class_weight='balanced'))\n",
        "    ]\n",
        ")\n",
        "# SVC has a class_weight attribute for unbalanced data\n",
        "\n",
        "\n",
        "# define ranges for bayes search\n",
        "bayes_search = BayesSearchCV(\n",
        "    SVC_pipline,\n",
        "    {\n",
        "        'my_svc__C': Real(1e-6, 1e+6, prior='log-uniform'),\n",
        "        'my_svc__gamma': Real(1e-6, 1e+1, prior='log-uniform'),\n",
        "        'my_svc__degree': Integer(1,8),\n",
        "        'my_svc__kernel': Categorical(['linear', 'poly', 'rbf']),\n",
        "    },\n",
        "    n_iter=3,\n",
        "    random_state=0,\n",
        "    verbose=3,\n",
        ")\n",
        "\n",
        "bayes_search.fit(x, y)\n",
        "print('best score {}'.format(bayes_search.best_score_))\n",
        "print('best score {}'.format(bayes_search.best_params_))\n"
      ]
    },
    {
      "cell_type": "code",
      "execution_count": null,
      "metadata": {
        "id": "jG6qwl9F-FV4",
        "colab": {
          "base_uri": "https://localhost:8080/"
        },
        "outputId": "4847216a-047d-4c60-b08c-e53efd50c0f3"
      },
      "outputs": [
        {
          "output_type": "stream",
          "name": "stdout",
          "text": [
            "Fitting 5 folds for each of 1 candidates, totalling 5 fits\n",
            "[CV 1/5] END my_svc__C=2.352718564818733, my_svc__coef0=0.6760795088769136, my_svc__degree=13, my_svc__gamma=0.033632533813774734, my_svc__kernel=poly;, score=0.840 total time=   9.5s\n",
            "[CV 2/5] END my_svc__C=2.352718564818733, my_svc__coef0=0.6760795088769136, my_svc__degree=13, my_svc__gamma=0.033632533813774734, my_svc__kernel=poly;, score=0.821 total time=   9.6s\n",
            "[CV 3/5] END my_svc__C=2.352718564818733, my_svc__coef0=0.6760795088769136, my_svc__degree=13, my_svc__gamma=0.033632533813774734, my_svc__kernel=poly;, score=0.825 total time=  12.8s\n",
            "[CV 4/5] END my_svc__C=2.352718564818733, my_svc__coef0=0.6760795088769136, my_svc__degree=13, my_svc__gamma=0.033632533813774734, my_svc__kernel=poly;, score=0.831 total time=  12.8s\n",
            "[CV 5/5] END my_svc__C=2.352718564818733, my_svc__coef0=0.6760795088769136, my_svc__degree=13, my_svc__gamma=0.033632533813774734, my_svc__kernel=poly;, score=0.829 total time=  12.8s\n",
            "Fitting 5 folds for each of 1 candidates, totalling 5 fits\n",
            "[CV 1/5] END my_svc__C=0.0012602593949011189, my_svc__coef0=0.9789036584263616, my_svc__degree=15, my_svc__gamma=0.01568172826980749, my_svc__kernel=poly;, score=0.839 total time=   9.9s\n",
            "[CV 2/5] END my_svc__C=0.0012602593949011189, my_svc__coef0=0.9789036584263616, my_svc__degree=15, my_svc__gamma=0.01568172826980749, my_svc__kernel=poly;, score=0.818 total time=   9.9s\n",
            "[CV 3/5] END my_svc__C=0.0012602593949011189, my_svc__coef0=0.9789036584263616, my_svc__degree=15, my_svc__gamma=0.01568172826980749, my_svc__kernel=poly;, score=0.822 total time=  13.4s\n",
            "[CV 4/5] END my_svc__C=0.0012602593949011189, my_svc__coef0=0.9789036584263616, my_svc__degree=15, my_svc__gamma=0.01568172826980749, my_svc__kernel=poly;, score=0.829 total time=  13.3s\n",
            "[CV 5/5] END my_svc__C=0.0012602593949011189, my_svc__coef0=0.9789036584263616, my_svc__degree=15, my_svc__gamma=0.01568172826980749, my_svc__kernel=poly;, score=0.831 total time=  13.5s\n",
            "Fitting 5 folds for each of 1 candidates, totalling 5 fits\n",
            "[CV 1/5] END my_svc__C=2.2095350994035026, my_svc__coef0=0.05789784369353025, my_svc__degree=11, my_svc__gamma=2.189069216928205e-05, my_svc__kernel=poly;, score=0.833 total time=  10.9s\n",
            "[CV 2/5] END my_svc__C=2.2095350994035026, my_svc__coef0=0.05789784369353025, my_svc__degree=11, my_svc__gamma=2.189069216928205e-05, my_svc__kernel=poly;, score=0.832 total time=  10.8s\n",
            "[CV 3/5] END my_svc__C=2.2095350994035026, my_svc__coef0=0.05789784369353025, my_svc__degree=11, my_svc__gamma=2.189069216928205e-05, my_svc__kernel=poly;, score=0.832 total time=  10.9s\n",
            "[CV 4/5] END my_svc__C=2.2095350994035026, my_svc__coef0=0.05789784369353025, my_svc__degree=11, my_svc__gamma=2.189069216928205e-05, my_svc__kernel=poly;, score=0.832 total time=  11.2s\n",
            "[CV 5/5] END my_svc__C=2.2095350994035026, my_svc__coef0=0.05789784369353025, my_svc__degree=11, my_svc__gamma=2.189069216928205e-05, my_svc__kernel=poly;, score=0.833 total time=  12.7s\n",
            "best score 0.8327974944517754\n",
            "best score OrderedDict([('my_svc__C', 2.2095350994035026), ('my_svc__coef0', 0.05789784369353025), ('my_svc__degree', 11), ('my_svc__gamma', 2.189069216928205e-05), ('my_svc__kernel', 'poly')])\n"
          ]
        }
      ],
      "source": [
        "#trial 1 bayes search\n",
        "#since the polynomial kernel is the best fit, the best coefficient needed to be adjusted for the model\n",
        "#Increase in degree might improve the result too\n",
        "bayes_search = BayesSearchCV(\n",
        "    SVC_pipline,\n",
        "    {\n",
        "        'my_svc__C': Real(1e-6, 1e+6, prior='log-uniform'),#regularization parameter\n",
        "        'my_svc__gamma': Real(1e-6, 1e+1, prior='log-uniform'),#kernel coefficient\n",
        "        'my_svc__degree': Integer(8,16),#degree of polynomial\n",
        "        'my_svc__kernel': Categorical([ 'poly']),#kernel category\n",
        "        'my_svc__coef0': Real(0,1) #polynomial coefficient\n",
        "    },\n",
        "    n_iter=3,\n",
        "    random_state=0,\n",
        "    verbose=3,\n",
        ")\n",
        "\n",
        "bayes_search.fit(x, y)\n",
        "print('best score {}'.format(bayes_search.best_score_))\n",
        "print('best score {}'.format(bayes_search.best_params_))\n",
        "#improves in the scores"
      ]
    },
    {
      "cell_type": "code",
      "source": [
        "#trial 2 bayes search\n",
        "#Increasing the number of iterations and lets see if the score improves\n",
        "bayes_search = BayesSearchCV(\n",
        "    SVC_pipline,\n",
        "    {\n",
        "        'my_svc__C': Real(1e-6, 1e+6, prior='log-uniform'),\n",
        "        'my_svc__gamma': Real(1e-6, 1e+1, prior='log-uniform'),\n",
        "        'my_svc__degree': Integer(8,16),\n",
        "        'my_svc__kernel': Categorical([ 'poly']),\n",
        "        'my_svc__coef0': Real(0,1)\n",
        "    },\n",
        "    n_iter=6,#iterations increases may lead to increase in score if underfitting as bayesian search learns from previous iterations\n",
        "    random_state=0,\n",
        "    verbose=3,\n",
        ")\n",
        "\n",
        "bayes_search.fit(x, y)\n",
        "print('best score {}'.format(bayes_search.best_score_))\n",
        "print('best score {}'.format(bayes_search.best_params_))\n",
        "#slightly improves the scores,not much is done\n",
        "#it could be considerred that the model is already fitting itself"
      ],
      "metadata": {
        "colab": {
          "base_uri": "https://localhost:8080/"
        },
        "id": "DBvagWWEVcKX",
        "outputId": "1be4ffa8-9385-49f2-d173-8df8ace12f23"
      },
      "execution_count": null,
      "outputs": [
        {
          "output_type": "stream",
          "name": "stdout",
          "text": [
            "Fitting 5 folds for each of 1 candidates, totalling 5 fits\n",
            "[CV 1/5] END my_svc__C=2.352718564818733, my_svc__coef0=0.6760795088769136, my_svc__degree=13, my_svc__gamma=0.033632533813774734, my_svc__kernel=poly;, score=0.840 total time=   9.3s\n",
            "[CV 2/5] END my_svc__C=2.352718564818733, my_svc__coef0=0.6760795088769136, my_svc__degree=13, my_svc__gamma=0.033632533813774734, my_svc__kernel=poly;, score=0.821 total time=   9.5s\n",
            "[CV 3/5] END my_svc__C=2.352718564818733, my_svc__coef0=0.6760795088769136, my_svc__degree=13, my_svc__gamma=0.033632533813774734, my_svc__kernel=poly;, score=0.825 total time=  12.9s\n",
            "[CV 4/5] END my_svc__C=2.352718564818733, my_svc__coef0=0.6760795088769136, my_svc__degree=13, my_svc__gamma=0.033632533813774734, my_svc__kernel=poly;, score=0.831 total time=  11.3s\n",
            "[CV 5/5] END my_svc__C=2.352718564818733, my_svc__coef0=0.6760795088769136, my_svc__degree=13, my_svc__gamma=0.033632533813774734, my_svc__kernel=poly;, score=0.829 total time=  12.8s\n",
            "Fitting 5 folds for each of 1 candidates, totalling 5 fits\n",
            "[CV 1/5] END my_svc__C=0.0012602593949011189, my_svc__coef0=0.9789036584263616, my_svc__degree=15, my_svc__gamma=0.01568172826980749, my_svc__kernel=poly;, score=0.839 total time=   9.9s\n",
            "[CV 2/5] END my_svc__C=0.0012602593949011189, my_svc__coef0=0.9789036584263616, my_svc__degree=15, my_svc__gamma=0.01568172826980749, my_svc__kernel=poly;, score=0.818 total time=   9.8s\n",
            "[CV 3/5] END my_svc__C=0.0012602593949011189, my_svc__coef0=0.9789036584263616, my_svc__degree=15, my_svc__gamma=0.01568172826980749, my_svc__kernel=poly;, score=0.822 total time=  13.2s\n",
            "[CV 4/5] END my_svc__C=0.0012602593949011189, my_svc__coef0=0.9789036584263616, my_svc__degree=15, my_svc__gamma=0.01568172826980749, my_svc__kernel=poly;, score=0.829 total time=  13.3s\n",
            "[CV 5/5] END my_svc__C=0.0012602593949011189, my_svc__coef0=0.9789036584263616, my_svc__degree=15, my_svc__gamma=0.01568172826980749, my_svc__kernel=poly;, score=0.831 total time=  13.5s\n",
            "Fitting 5 folds for each of 1 candidates, totalling 5 fits\n",
            "[CV 1/5] END my_svc__C=2.2095350994035026, my_svc__coef0=0.05789784369353025, my_svc__degree=11, my_svc__gamma=2.189069216928205e-05, my_svc__kernel=poly;, score=0.833 total time=  10.7s\n",
            "[CV 2/5] END my_svc__C=2.2095350994035026, my_svc__coef0=0.05789784369353025, my_svc__degree=11, my_svc__gamma=2.189069216928205e-05, my_svc__kernel=poly;, score=0.832 total time=  10.8s\n",
            "[CV 3/5] END my_svc__C=2.2095350994035026, my_svc__coef0=0.05789784369353025, my_svc__degree=11, my_svc__gamma=2.189069216928205e-05, my_svc__kernel=poly;, score=0.832 total time=  10.7s\n",
            "[CV 4/5] END my_svc__C=2.2095350994035026, my_svc__coef0=0.05789784369353025, my_svc__degree=11, my_svc__gamma=2.189069216928205e-05, my_svc__kernel=poly;, score=0.832 total time=  12.1s\n",
            "[CV 5/5] END my_svc__C=2.2095350994035026, my_svc__coef0=0.05789784369353025, my_svc__degree=11, my_svc__gamma=2.189069216928205e-05, my_svc__kernel=poly;, score=0.833 total time=  11.4s\n",
            "Fitting 5 folds for each of 1 candidates, totalling 5 fits\n",
            "[CV 1/5] END my_svc__C=5.87540411933884e-05, my_svc__coef0=0.7832662706729938, my_svc__degree=12, my_svc__gamma=0.0015324556561035888, my_svc__kernel=poly;, score=0.835 total time=  11.0s\n",
            "[CV 2/5] END my_svc__C=5.87540411933884e-05, my_svc__coef0=0.7832662706729938, my_svc__degree=12, my_svc__gamma=0.0015324556561035888, my_svc__kernel=poly;, score=0.832 total time=  10.9s\n",
            "[CV 3/5] END my_svc__C=5.87540411933884e-05, my_svc__coef0=0.7832662706729938, my_svc__degree=12, my_svc__gamma=0.0015324556561035888, my_svc__kernel=poly;, score=0.832 total time=  10.9s\n",
            "[CV 4/5] END my_svc__C=5.87540411933884e-05, my_svc__coef0=0.7832662706729938, my_svc__degree=12, my_svc__gamma=0.0015324556561035888, my_svc__kernel=poly;, score=0.831 total time=  10.9s\n",
            "[CV 5/5] END my_svc__C=5.87540411933884e-05, my_svc__coef0=0.7832662706729938, my_svc__degree=12, my_svc__gamma=0.0015324556561035888, my_svc__kernel=poly;, score=0.833 total time=  11.3s\n",
            "Fitting 5 folds for each of 1 candidates, totalling 5 fits\n",
            "[CV 1/5] END my_svc__C=0.0006168340492440594, my_svc__coef0=0.243335935468399, my_svc__degree=14, my_svc__gamma=9.971554009280314e-05, my_svc__kernel=poly;, score=0.833 total time=  11.9s\n",
            "[CV 2/5] END my_svc__C=0.0006168340492440594, my_svc__coef0=0.243335935468399, my_svc__degree=14, my_svc__gamma=9.971554009280314e-05, my_svc__kernel=poly;, score=0.832 total time=  11.0s\n",
            "[CV 3/5] END my_svc__C=0.0006168340492440594, my_svc__coef0=0.243335935468399, my_svc__degree=14, my_svc__gamma=9.971554009280314e-05, my_svc__kernel=poly;, score=0.832 total time=  10.9s\n",
            "[CV 4/5] END my_svc__C=0.0006168340492440594, my_svc__coef0=0.243335935468399, my_svc__degree=14, my_svc__gamma=9.971554009280314e-05, my_svc__kernel=poly;, score=0.832 total time=  10.7s\n",
            "[CV 5/5] END my_svc__C=0.0006168340492440594, my_svc__coef0=0.243335935468399, my_svc__degree=14, my_svc__gamma=9.971554009280314e-05, my_svc__kernel=poly;, score=0.167 total time=  10.7s\n",
            "Fitting 5 folds for each of 1 candidates, totalling 5 fits\n",
            "[CV 1/5] END my_svc__C=11428.693628355693, my_svc__coef0=0.9912240538928986, my_svc__degree=14, my_svc__gamma=0.0025305221847832585, my_svc__kernel=poly;, score=0.849 total time=   5.0s\n",
            "[CV 2/5] END my_svc__C=11428.693628355693, my_svc__coef0=0.9912240538928986, my_svc__degree=14, my_svc__gamma=0.0025305221847832585, my_svc__kernel=poly;, score=0.836 total time=   5.1s\n",
            "[CV 3/5] END my_svc__C=11428.693628355693, my_svc__coef0=0.9912240538928986, my_svc__degree=14, my_svc__gamma=0.0025305221847832585, my_svc__kernel=poly;, score=0.836 total time=   5.0s\n",
            "[CV 4/5] END my_svc__C=11428.693628355693, my_svc__coef0=0.9912240538928986, my_svc__degree=14, my_svc__gamma=0.0025305221847832585, my_svc__kernel=poly;, score=0.835 total time=   4.9s\n",
            "[CV 5/5] END my_svc__C=11428.693628355693, my_svc__coef0=0.9912240538928986, my_svc__degree=14, my_svc__gamma=0.0025305221847832585, my_svc__kernel=poly;, score=0.834 total time=   4.9s\n",
            "best score 0.8380429845939158\n",
            "best score OrderedDict([('my_svc__C', 11428.693628355693), ('my_svc__coef0', 0.9912240538928986), ('my_svc__degree', 14), ('my_svc__gamma', 0.0025305221847832585), ('my_svc__kernel', 'poly')])\n"
          ]
        }
      ]
    },
    {
      "cell_type": "markdown",
      "source": [
        "As a result ,we select the result from gridsearch in the second trial and prepare our submission."
      ],
      "metadata": {
        "id": "_Y1GA_-2o0DY"
      }
    },
    {
      "cell_type": "code",
      "execution_count": null,
      "metadata": {
        "id": "k6wJ28S6-FV4"
      },
      "outputs": [],
      "source": [
        "# print('all the cv scores')\n",
        "# pprint(bayes_search.cv_results_)"
      ]
    },
    {
      "cell_type": "code",
      "source": [
        "#Final submission\n",
        "#the increase in accuracy is too little to measure for the last trial\n",
        "#to improve efficiency, let's try multiple learning rate setting, lower maximum depth and try to tweak the loss function\n",
        "param_grid = {\n",
        "    'preprocessor__num__imputer__strategy': ['mean'],\n",
        "    'my_classifier__n_estimators': [80],\n",
        "    'my_classifier__max_depth':[5],\n",
        "    'my_classifier__learning_rate':[0.1],#learning rate\n",
        "    'my_classifier__reg_alpha':[2],#loss function\n",
        "}\n",
        "\n",
        "grid_search = GridSearchCV(\n",
        "    full_pipline, param_grid, cv=5, verbose=3, n_jobs=2, \n",
        "    scoring='roc_auc')\n",
        "\n",
        "grid_search.fit(x, y)\n",
        "print('best score {}'.format(grid_search.best_score_))\n",
        "print('best score {}'.format(grid_search.best_params_))\n",
        "#slight increase in scores"
      ],
      "metadata": {
        "colab": {
          "base_uri": "https://localhost:8080/"
        },
        "outputId": "b383f975-3b69-40a7-dea4-b1e5cb65dbd5",
        "id": "waf7YDq8pDXn"
      },
      "execution_count": null,
      "outputs": [
        {
          "output_type": "stream",
          "name": "stdout",
          "text": [
            "Fitting 5 folds for each of 1 candidates, totalling 5 fits\n",
            "best score 0.8821970573122855\n",
            "best score {'my_classifier__learning_rate': 0.1, 'my_classifier__max_depth': 5, 'my_classifier__n_estimators': 80, 'my_classifier__reg_alpha': 2, 'preprocessor__num__imputer__strategy': 'mean'}\n"
          ]
        }
      ]
    },
    {
      "cell_type": "code",
      "execution_count": null,
      "metadata": {
        "colab": {
          "base_uri": "https://localhost:8080/",
          "height": 424
        },
        "id": "VkYab9MQ-FV3",
        "outputId": "ed6d00e1-287d-4fe0-bfd7-abe2c154697f"
      },
      "outputs": [
        {
          "output_type": "execute_result",
          "data": {
            "text/plain": [
              "        id     match\n",
              "0      934  0.079463\n",
              "1     6539  0.481633\n",
              "2     6757  0.261872\n",
              "3     2275  0.059485\n",
              "4     1052  0.042743\n",
              "...    ...       ...\n",
              "2464  7982  0.202070\n",
              "2465  7299  0.341643\n",
              "2466  1818  0.090478\n",
              "2467   937  0.030958\n",
              "2468  6691  0.016516\n",
              "\n",
              "[2469 rows x 2 columns]"
            ],
            "text/html": [
              "\n",
              "  <div id=\"df-026ce0cb-3222-40ed-9edc-40f695e9fec7\">\n",
              "    <div class=\"colab-df-container\">\n",
              "      <div>\n",
              "<style scoped>\n",
              "    .dataframe tbody tr th:only-of-type {\n",
              "        vertical-align: middle;\n",
              "    }\n",
              "\n",
              "    .dataframe tbody tr th {\n",
              "        vertical-align: top;\n",
              "    }\n",
              "\n",
              "    .dataframe thead th {\n",
              "        text-align: right;\n",
              "    }\n",
              "</style>\n",
              "<table border=\"1\" class=\"dataframe\">\n",
              "  <thead>\n",
              "    <tr style=\"text-align: right;\">\n",
              "      <th></th>\n",
              "      <th>id</th>\n",
              "      <th>match</th>\n",
              "    </tr>\n",
              "  </thead>\n",
              "  <tbody>\n",
              "    <tr>\n",
              "      <th>0</th>\n",
              "      <td>934</td>\n",
              "      <td>0.079463</td>\n",
              "    </tr>\n",
              "    <tr>\n",
              "      <th>1</th>\n",
              "      <td>6539</td>\n",
              "      <td>0.481633</td>\n",
              "    </tr>\n",
              "    <tr>\n",
              "      <th>2</th>\n",
              "      <td>6757</td>\n",
              "      <td>0.261872</td>\n",
              "    </tr>\n",
              "    <tr>\n",
              "      <th>3</th>\n",
              "      <td>2275</td>\n",
              "      <td>0.059485</td>\n",
              "    </tr>\n",
              "    <tr>\n",
              "      <th>4</th>\n",
              "      <td>1052</td>\n",
              "      <td>0.042743</td>\n",
              "    </tr>\n",
              "    <tr>\n",
              "      <th>...</th>\n",
              "      <td>...</td>\n",
              "      <td>...</td>\n",
              "    </tr>\n",
              "    <tr>\n",
              "      <th>2464</th>\n",
              "      <td>7982</td>\n",
              "      <td>0.202070</td>\n",
              "    </tr>\n",
              "    <tr>\n",
              "      <th>2465</th>\n",
              "      <td>7299</td>\n",
              "      <td>0.341643</td>\n",
              "    </tr>\n",
              "    <tr>\n",
              "      <th>2466</th>\n",
              "      <td>1818</td>\n",
              "      <td>0.090478</td>\n",
              "    </tr>\n",
              "    <tr>\n",
              "      <th>2467</th>\n",
              "      <td>937</td>\n",
              "      <td>0.030958</td>\n",
              "    </tr>\n",
              "    <tr>\n",
              "      <th>2468</th>\n",
              "      <td>6691</td>\n",
              "      <td>0.016516</td>\n",
              "    </tr>\n",
              "  </tbody>\n",
              "</table>\n",
              "<p>2469 rows × 2 columns</p>\n",
              "</div>\n",
              "      <button class=\"colab-df-convert\" onclick=\"convertToInteractive('df-026ce0cb-3222-40ed-9edc-40f695e9fec7')\"\n",
              "              title=\"Convert this dataframe to an interactive table.\"\n",
              "              style=\"display:none;\">\n",
              "        \n",
              "  <svg xmlns=\"http://www.w3.org/2000/svg\" height=\"24px\"viewBox=\"0 0 24 24\"\n",
              "       width=\"24px\">\n",
              "    <path d=\"M0 0h24v24H0V0z\" fill=\"none\"/>\n",
              "    <path d=\"M18.56 5.44l.94 2.06.94-2.06 2.06-.94-2.06-.94-.94-2.06-.94 2.06-2.06.94zm-11 1L8.5 8.5l.94-2.06 2.06-.94-2.06-.94L8.5 2.5l-.94 2.06-2.06.94zm10 10l.94 2.06.94-2.06 2.06-.94-2.06-.94-.94-2.06-.94 2.06-2.06.94z\"/><path d=\"M17.41 7.96l-1.37-1.37c-.4-.4-.92-.59-1.43-.59-.52 0-1.04.2-1.43.59L10.3 9.45l-7.72 7.72c-.78.78-.78 2.05 0 2.83L4 21.41c.39.39.9.59 1.41.59.51 0 1.02-.2 1.41-.59l7.78-7.78 2.81-2.81c.8-.78.8-2.07 0-2.86zM5.41 20L4 18.59l7.72-7.72 1.47 1.35L5.41 20z\"/>\n",
              "  </svg>\n",
              "      </button>\n",
              "      \n",
              "  <style>\n",
              "    .colab-df-container {\n",
              "      display:flex;\n",
              "      flex-wrap:wrap;\n",
              "      gap: 12px;\n",
              "    }\n",
              "\n",
              "    .colab-df-convert {\n",
              "      background-color: #E8F0FE;\n",
              "      border: none;\n",
              "      border-radius: 50%;\n",
              "      cursor: pointer;\n",
              "      display: none;\n",
              "      fill: #1967D2;\n",
              "      height: 32px;\n",
              "      padding: 0 0 0 0;\n",
              "      width: 32px;\n",
              "    }\n",
              "\n",
              "    .colab-df-convert:hover {\n",
              "      background-color: #E2EBFA;\n",
              "      box-shadow: 0px 1px 2px rgba(60, 64, 67, 0.3), 0px 1px 3px 1px rgba(60, 64, 67, 0.15);\n",
              "      fill: #174EA6;\n",
              "    }\n",
              "\n",
              "    [theme=dark] .colab-df-convert {\n",
              "      background-color: #3B4455;\n",
              "      fill: #D2E3FC;\n",
              "    }\n",
              "\n",
              "    [theme=dark] .colab-df-convert:hover {\n",
              "      background-color: #434B5C;\n",
              "      box-shadow: 0px 1px 3px 1px rgba(0, 0, 0, 0.15);\n",
              "      filter: drop-shadow(0px 1px 2px rgba(0, 0, 0, 0.3));\n",
              "      fill: #FFFFFF;\n",
              "    }\n",
              "  </style>\n",
              "\n",
              "      <script>\n",
              "        const buttonEl =\n",
              "          document.querySelector('#df-026ce0cb-3222-40ed-9edc-40f695e9fec7 button.colab-df-convert');\n",
              "        buttonEl.style.display =\n",
              "          google.colab.kernel.accessAllowed ? 'block' : 'none';\n",
              "\n",
              "        async function convertToInteractive(key) {\n",
              "          const element = document.querySelector('#df-026ce0cb-3222-40ed-9edc-40f695e9fec7');\n",
              "          const dataTable =\n",
              "            await google.colab.kernel.invokeFunction('convertToInteractive',\n",
              "                                                     [key], {});\n",
              "          if (!dataTable) return;\n",
              "\n",
              "          const docLinkHtml = 'Like what you see? Visit the ' +\n",
              "            '<a target=\"_blank\" href=https://colab.research.google.com/notebooks/data_table.ipynb>data table notebook</a>'\n",
              "            + ' to learn more about interactive tables.';\n",
              "          element.innerHTML = '';\n",
              "          dataTable['output_type'] = 'display_data';\n",
              "          await google.colab.output.renderOutput(dataTable, element);\n",
              "          const docLink = document.createElement('div');\n",
              "          docLink.innerHTML = docLinkHtml;\n",
              "          element.appendChild(docLink);\n",
              "        }\n",
              "      </script>\n",
              "    </div>\n",
              "  </div>\n",
              "  "
            ]
          },
          "metadata": {},
          "execution_count": 24
        }
      ],
      "source": [
        "#prepare submission:\n",
        "submission = pd.DataFrame()\n",
        "submission['id'] = data_test['id']\n",
        "submission['match'] = grid_search.predict_proba(data_test)[:,1]\n",
        "submission.to_csv('sample_submission_walkthrough.csv', index=False)\n",
        "submission"
      ]
    },
    {
      "cell_type": "markdown",
      "source": [
        "Q:🌈Why a simple linear regression model (without any activation function) is not good for classification task, compared to Perceptron/Logistic regression?<br>\n",
        "A: Because simple linear regression model deals with coninuous values whereas in a classification task, discrete values are handled. Perceptron deals with binary class label which are discrete values.<br>\n",
        "🌈What's a decision tree and how it is different to a logistic regression model?<br>\n",
        "A：Decsion tree performs like a flow chart and evey node on it tests the result from pervious node. After the test, the result is shown by the node extending branches to other node. Compare to logistic regression model, decision tree doesn't aim to divide the data points into two or three catergories but to divide them up to a number of small blocks by coninously splitting them.<br>\n",
        "🌈What's the difference between grid search and random search?<br>\n",
        "A: Random search searches the datapoints/nodes randomly in batches, that means not all datapoints are evualuated in one iteration. Grid search has certain order to loop through all the datapoints.<br>\n",
        "🌈What's the difference between bayesian search and random search?<br>\n",
        "A：Bayesian search runs their iterations depend on pevious iteration, whereas in random search each iterations is independent."
      ],
      "metadata": {
        "id": "7fePO1l4iAEx"
      }
    },
    {
      "cell_type": "code",
      "execution_count": null,
      "metadata": {
        "id": "slDVibZz-FV4"
      },
      "outputs": [],
      "source": []
    }
  ],
  "metadata": {
    "kernelspec": {
      "display_name": "Python 3",
      "language": "python",
      "name": "python3"
    },
    "language_info": {
      "codemirror_mode": {
        "name": "ipython",
        "version": 3
      },
      "file_extension": ".py",
      "mimetype": "text/x-python",
      "name": "python",
      "nbconvert_exporter": "python",
      "pygments_lexer": "ipython3",
      "version": "3.7.8"
    },
    "colab": {
      "provenance": [],
      "collapsed_sections": []
    }
  },
  "nbformat": 4,
  "nbformat_minor": 0
}